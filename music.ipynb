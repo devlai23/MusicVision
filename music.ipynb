{
  "nbformat": 4,
  "nbformat_minor": 0,
  "metadata": {
    "colab": {
      "name": "music.ipynb",
      "provenance": [],
      "collapsed_sections": [],
      "include_colab_link": true
    },
    "kernelspec": {
      "name": "python3",
      "display_name": "Python 3"
    },
    "language_info": {
      "name": "python"
    },
    "accelerator": "GPU"
  },
  "cells": [
    {
      "cell_type": "markdown",
      "metadata": {
        "id": "view-in-github",
        "colab_type": "text"
      },
      "source": [
        "<a href=\"https://colab.research.google.com/github/devlai23/MusicVision/blob/master/music.ipynb\" target=\"_parent\"><img src=\"https://colab.research.google.com/assets/colab-badge.svg\" alt=\"Open In Colab\"/></a>"
      ]
    },
    {
      "cell_type": "code",
      "source": [
        "pip install anvil.uplink"
      ],
      "metadata": {
        "colab": {
          "base_uri": "https://localhost:8080/",
          "height": 259
        },
        "id": "mskWebUreb7v",
        "outputId": "81d04eac-563c-4c20-dc2c-4b0e674308b5"
      },
      "execution_count": null,
      "outputs": [
        {
          "output_type": "stream",
          "name": "stdout",
          "text": [
            "Looking in indexes: https://pypi.org/simple, https://us-python.pkg.dev/colab-wheels/public/simple/\n",
            "Requirement already satisfied: anvil.uplink in /usr/local/lib/python3.7/dist-packages (0.3.42)\n",
            "Requirement already satisfied: future in /usr/local/lib/python3.7/dist-packages (from anvil.uplink) (0.16.0)\n",
            "Collecting argparse\n",
            "  Using cached argparse-1.4.0-py2.py3-none-any.whl (23 kB)\n",
            "Requirement already satisfied: six in /usr/local/lib/python3.7/dist-packages (from anvil.uplink) (1.15.0)\n",
            "Requirement already satisfied: ws4py in /usr/local/lib/python3.7/dist-packages (from anvil.uplink) (0.5.1)\n",
            "Installing collected packages: argparse\n",
            "Successfully installed argparse-1.4.0\n"
          ]
        },
        {
          "output_type": "display_data",
          "data": {
            "application/vnd.colab-display-data+json": {
              "pip_warning": {
                "packages": [
                  "argparse"
                ]
              }
            }
          },
          "metadata": {}
        }
      ]
    },
    {
      "cell_type": "code",
      "source": [
        "import anvil.server\n",
        "anvil.server.connect(\"XXZ2FXE766LCYN4IFEOKZN5A-WJ3GZS5CJOP55SZU\")"
      ],
      "metadata": {
        "id": "5kyYFFnQ9J9C"
      },
      "execution_count": null,
      "outputs": []
    },
    {
      "cell_type": "code",
      "execution_count": null,
      "metadata": {
        "id": "MrYTd3fjVcRw"
      },
      "outputs": [],
      "source": [
        "%reload_ext autoreload\n",
        "%autoreload 2\n",
        "%matplotlib inline"
      ]
    },
    {
      "cell_type": "code",
      "source": [
        "import warnings\n",
        "warnings.simplefilter('ignore')"
      ],
      "metadata": {
        "id": "0_nX8GN5Yv3c"
      },
      "execution_count": null,
      "outputs": []
    },
    {
      "cell_type": "code",
      "source": [
        "import fastai as fa\n",
        "from fastai.vision import *"
      ],
      "metadata": {
        "id": "GvDmO9XHYxKN"
      },
      "execution_count": null,
      "outputs": []
    },
    {
      "cell_type": "code",
      "source": [
        "import os\n",
        "from pathlib import *\n",
        "import pandas as pd"
      ],
      "metadata": {
        "id": "b7b3Zgq8Yztw"
      },
      "execution_count": null,
      "outputs": []
    },
    {
      "cell_type": "code",
      "source": [
        "INPUT = Path(\"Kaggle\")\n",
        "os.listdir(INPUT)"
      ],
      "metadata": {
        "colab": {
          "base_uri": "https://localhost:8080/"
        },
        "id": "BvM9qUD7Y2rH",
        "outputId": "28813792-b1d1-4f26-e6bf-06285bf88193"
      },
      "execution_count": null,
      "outputs": [
        {
          "output_type": "execute_result",
          "data": {
            "text/plain": [
              "['data2.csv', 'data1.csv']"
            ]
          },
          "metadata": {},
          "execution_count": 121
        }
      ]
    },
    {
      "cell_type": "code",
      "source": [
        "test_df = pd.read_csv(INPUT/\"data1.csv\")\n",
        "test_df.head(3)"
      ],
      "metadata": {
        "colab": {
          "base_uri": "https://localhost:8080/",
          "height": 173
        },
        "id": "-U16Hqg9ZQFH",
        "outputId": "4e71dc66-3bfe-4c77-e828-ae5ea16dd42a"
      },
      "execution_count": null,
      "outputs": [
        {
          "output_type": "execute_result",
          "data": {
            "text/plain": [
              "     0    1    2    3    4    5    6    7    8    9  ...  4086  4087  4088  \\\n",
              "0  255  255  255  255  255  255  255  255  255  255  ...   255   255   255   \n",
              "1  255  255  255  255  255  255  255  255  255  255  ...   255   255   255   \n",
              "2  255  255  255  255  255  255  255  255  255  255  ...   255   255   255   \n",
              "\n",
              "   4089  4090  4091  4092  4093  4094  4095  \n",
              "0   255   255   255   255   255   255   255  \n",
              "1   255   255   255   255   255   255   255  \n",
              "2   255   255   255   255   255   255   255  \n",
              "\n",
              "[3 rows x 4096 columns]"
            ],
            "text/html": [
              "\n",
              "  <div id=\"df-d813476e-1a68-4ff2-b24c-4916482062b6\">\n",
              "    <div class=\"colab-df-container\">\n",
              "      <div>\n",
              "<style scoped>\n",
              "    .dataframe tbody tr th:only-of-type {\n",
              "        vertical-align: middle;\n",
              "    }\n",
              "\n",
              "    .dataframe tbody tr th {\n",
              "        vertical-align: top;\n",
              "    }\n",
              "\n",
              "    .dataframe thead th {\n",
              "        text-align: right;\n",
              "    }\n",
              "</style>\n",
              "<table border=\"1\" class=\"dataframe\">\n",
              "  <thead>\n",
              "    <tr style=\"text-align: right;\">\n",
              "      <th></th>\n",
              "      <th>0</th>\n",
              "      <th>1</th>\n",
              "      <th>2</th>\n",
              "      <th>3</th>\n",
              "      <th>4</th>\n",
              "      <th>5</th>\n",
              "      <th>6</th>\n",
              "      <th>7</th>\n",
              "      <th>8</th>\n",
              "      <th>9</th>\n",
              "      <th>...</th>\n",
              "      <th>4086</th>\n",
              "      <th>4087</th>\n",
              "      <th>4088</th>\n",
              "      <th>4089</th>\n",
              "      <th>4090</th>\n",
              "      <th>4091</th>\n",
              "      <th>4092</th>\n",
              "      <th>4093</th>\n",
              "      <th>4094</th>\n",
              "      <th>4095</th>\n",
              "    </tr>\n",
              "  </thead>\n",
              "  <tbody>\n",
              "    <tr>\n",
              "      <th>0</th>\n",
              "      <td>255</td>\n",
              "      <td>255</td>\n",
              "      <td>255</td>\n",
              "      <td>255</td>\n",
              "      <td>255</td>\n",
              "      <td>255</td>\n",
              "      <td>255</td>\n",
              "      <td>255</td>\n",
              "      <td>255</td>\n",
              "      <td>255</td>\n",
              "      <td>...</td>\n",
              "      <td>255</td>\n",
              "      <td>255</td>\n",
              "      <td>255</td>\n",
              "      <td>255</td>\n",
              "      <td>255</td>\n",
              "      <td>255</td>\n",
              "      <td>255</td>\n",
              "      <td>255</td>\n",
              "      <td>255</td>\n",
              "      <td>255</td>\n",
              "    </tr>\n",
              "    <tr>\n",
              "      <th>1</th>\n",
              "      <td>255</td>\n",
              "      <td>255</td>\n",
              "      <td>255</td>\n",
              "      <td>255</td>\n",
              "      <td>255</td>\n",
              "      <td>255</td>\n",
              "      <td>255</td>\n",
              "      <td>255</td>\n",
              "      <td>255</td>\n",
              "      <td>255</td>\n",
              "      <td>...</td>\n",
              "      <td>255</td>\n",
              "      <td>255</td>\n",
              "      <td>255</td>\n",
              "      <td>255</td>\n",
              "      <td>255</td>\n",
              "      <td>255</td>\n",
              "      <td>255</td>\n",
              "      <td>255</td>\n",
              "      <td>255</td>\n",
              "      <td>255</td>\n",
              "    </tr>\n",
              "    <tr>\n",
              "      <th>2</th>\n",
              "      <td>255</td>\n",
              "      <td>255</td>\n",
              "      <td>255</td>\n",
              "      <td>255</td>\n",
              "      <td>255</td>\n",
              "      <td>255</td>\n",
              "      <td>255</td>\n",
              "      <td>255</td>\n",
              "      <td>255</td>\n",
              "      <td>255</td>\n",
              "      <td>...</td>\n",
              "      <td>255</td>\n",
              "      <td>255</td>\n",
              "      <td>255</td>\n",
              "      <td>255</td>\n",
              "      <td>255</td>\n",
              "      <td>255</td>\n",
              "      <td>255</td>\n",
              "      <td>255</td>\n",
              "      <td>255</td>\n",
              "      <td>255</td>\n",
              "    </tr>\n",
              "  </tbody>\n",
              "</table>\n",
              "<p>3 rows × 4096 columns</p>\n",
              "</div>\n",
              "      <button class=\"colab-df-convert\" onclick=\"convertToInteractive('df-d813476e-1a68-4ff2-b24c-4916482062b6')\"\n",
              "              title=\"Convert this dataframe to an interactive table.\"\n",
              "              style=\"display:none;\">\n",
              "        \n",
              "  <svg xmlns=\"http://www.w3.org/2000/svg\" height=\"24px\"viewBox=\"0 0 24 24\"\n",
              "       width=\"24px\">\n",
              "    <path d=\"M0 0h24v24H0V0z\" fill=\"none\"/>\n",
              "    <path d=\"M18.56 5.44l.94 2.06.94-2.06 2.06-.94-2.06-.94-.94-2.06-.94 2.06-2.06.94zm-11 1L8.5 8.5l.94-2.06 2.06-.94-2.06-.94L8.5 2.5l-.94 2.06-2.06.94zm10 10l.94 2.06.94-2.06 2.06-.94-2.06-.94-.94-2.06-.94 2.06-2.06.94z\"/><path d=\"M17.41 7.96l-1.37-1.37c-.4-.4-.92-.59-1.43-.59-.52 0-1.04.2-1.43.59L10.3 9.45l-7.72 7.72c-.78.78-.78 2.05 0 2.83L4 21.41c.39.39.9.59 1.41.59.51 0 1.02-.2 1.41-.59l7.78-7.78 2.81-2.81c.8-.78.8-2.07 0-2.86zM5.41 20L4 18.59l7.72-7.72 1.47 1.35L5.41 20z\"/>\n",
              "  </svg>\n",
              "      </button>\n",
              "      \n",
              "  <style>\n",
              "    .colab-df-container {\n",
              "      display:flex;\n",
              "      flex-wrap:wrap;\n",
              "      gap: 12px;\n",
              "    }\n",
              "\n",
              "    .colab-df-convert {\n",
              "      background-color: #E8F0FE;\n",
              "      border: none;\n",
              "      border-radius: 50%;\n",
              "      cursor: pointer;\n",
              "      display: none;\n",
              "      fill: #1967D2;\n",
              "      height: 32px;\n",
              "      padding: 0 0 0 0;\n",
              "      width: 32px;\n",
              "    }\n",
              "\n",
              "    .colab-df-convert:hover {\n",
              "      background-color: #E2EBFA;\n",
              "      box-shadow: 0px 1px 2px rgba(60, 64, 67, 0.3), 0px 1px 3px 1px rgba(60, 64, 67, 0.15);\n",
              "      fill: #174EA6;\n",
              "    }\n",
              "\n",
              "    [theme=dark] .colab-df-convert {\n",
              "      background-color: #3B4455;\n",
              "      fill: #D2E3FC;\n",
              "    }\n",
              "\n",
              "    [theme=dark] .colab-df-convert:hover {\n",
              "      background-color: #434B5C;\n",
              "      box-shadow: 0px 1px 3px 1px rgba(0, 0, 0, 0.15);\n",
              "      filter: drop-shadow(0px 1px 2px rgba(0, 0, 0, 0.3));\n",
              "      fill: #FFFFFF;\n",
              "    }\n",
              "  </style>\n",
              "\n",
              "      <script>\n",
              "        const buttonEl =\n",
              "          document.querySelector('#df-d813476e-1a68-4ff2-b24c-4916482062b6 button.colab-df-convert');\n",
              "        buttonEl.style.display =\n",
              "          google.colab.kernel.accessAllowed ? 'block' : 'none';\n",
              "\n",
              "        async function convertToInteractive(key) {\n",
              "          const element = document.querySelector('#df-d813476e-1a68-4ff2-b24c-4916482062b6');\n",
              "          const dataTable =\n",
              "            await google.colab.kernel.invokeFunction('convertToInteractive',\n",
              "                                                     [key], {});\n",
              "          if (!dataTable) return;\n",
              "\n",
              "          const docLinkHtml = 'Like what you see? Visit the ' +\n",
              "            '<a target=\"_blank\" href=https://colab.research.google.com/notebooks/data_table.ipynb>data table notebook</a>'\n",
              "            + ' to learn more about interactive tables.';\n",
              "          element.innerHTML = '';\n",
              "          dataTable['output_type'] = 'display_data';\n",
              "          await google.colab.output.renderOutput(dataTable, element);\n",
              "          const docLink = document.createElement('div');\n",
              "          docLink.innerHTML = docLinkHtml;\n",
              "          element.appendChild(docLink);\n",
              "        }\n",
              "      </script>\n",
              "    </div>\n",
              "  </div>\n",
              "  "
            ]
          },
          "metadata": {},
          "execution_count": 122
        }
      ]
    },
    {
      "cell_type": "code",
      "source": [
        "train_df = pd.read_csv(INPUT/\"data2.csv\")\n",
        "train_df.head(3)"
      ],
      "metadata": {
        "colab": {
          "base_uri": "https://localhost:8080/",
          "height": 173
        },
        "id": "GDgcRgxQasbs",
        "outputId": "4798630b-e3b1-4847-883f-eed0bb7f8982"
      },
      "execution_count": null,
      "outputs": [
        {
          "output_type": "execute_result",
          "data": {
            "text/plain": [
              "   label    0    1    2    3    4    5    6    7    8  ...  4086  4087  4088  \\\n",
              "0  Eight  255  255  255  255  255  255  255  255  255  ...   255   255   255   \n",
              "1  Eight  255  255  255  255  255  255  255  255  255  ...   255   255   255   \n",
              "2  Eight  255  255  255  255  255  255  255  255  255  ...   255   255   255   \n",
              "\n",
              "   4089  4090  4091  4092  4093  4094  4095  \n",
              "0   255   255   255   255   255   255   255  \n",
              "1   255   255   255   255   255   255   255  \n",
              "2   255   255   255   255   255   255   255  \n",
              "\n",
              "[3 rows x 4097 columns]"
            ],
            "text/html": [
              "\n",
              "  <div id=\"df-58509d83-d8c7-4bca-a1e3-285a768e8c9a\">\n",
              "    <div class=\"colab-df-container\">\n",
              "      <div>\n",
              "<style scoped>\n",
              "    .dataframe tbody tr th:only-of-type {\n",
              "        vertical-align: middle;\n",
              "    }\n",
              "\n",
              "    .dataframe tbody tr th {\n",
              "        vertical-align: top;\n",
              "    }\n",
              "\n",
              "    .dataframe thead th {\n",
              "        text-align: right;\n",
              "    }\n",
              "</style>\n",
              "<table border=\"1\" class=\"dataframe\">\n",
              "  <thead>\n",
              "    <tr style=\"text-align: right;\">\n",
              "      <th></th>\n",
              "      <th>label</th>\n",
              "      <th>0</th>\n",
              "      <th>1</th>\n",
              "      <th>2</th>\n",
              "      <th>3</th>\n",
              "      <th>4</th>\n",
              "      <th>5</th>\n",
              "      <th>6</th>\n",
              "      <th>7</th>\n",
              "      <th>8</th>\n",
              "      <th>...</th>\n",
              "      <th>4086</th>\n",
              "      <th>4087</th>\n",
              "      <th>4088</th>\n",
              "      <th>4089</th>\n",
              "      <th>4090</th>\n",
              "      <th>4091</th>\n",
              "      <th>4092</th>\n",
              "      <th>4093</th>\n",
              "      <th>4094</th>\n",
              "      <th>4095</th>\n",
              "    </tr>\n",
              "  </thead>\n",
              "  <tbody>\n",
              "    <tr>\n",
              "      <th>0</th>\n",
              "      <td>Eight</td>\n",
              "      <td>255</td>\n",
              "      <td>255</td>\n",
              "      <td>255</td>\n",
              "      <td>255</td>\n",
              "      <td>255</td>\n",
              "      <td>255</td>\n",
              "      <td>255</td>\n",
              "      <td>255</td>\n",
              "      <td>255</td>\n",
              "      <td>...</td>\n",
              "      <td>255</td>\n",
              "      <td>255</td>\n",
              "      <td>255</td>\n",
              "      <td>255</td>\n",
              "      <td>255</td>\n",
              "      <td>255</td>\n",
              "      <td>255</td>\n",
              "      <td>255</td>\n",
              "      <td>255</td>\n",
              "      <td>255</td>\n",
              "    </tr>\n",
              "    <tr>\n",
              "      <th>1</th>\n",
              "      <td>Eight</td>\n",
              "      <td>255</td>\n",
              "      <td>255</td>\n",
              "      <td>255</td>\n",
              "      <td>255</td>\n",
              "      <td>255</td>\n",
              "      <td>255</td>\n",
              "      <td>255</td>\n",
              "      <td>255</td>\n",
              "      <td>255</td>\n",
              "      <td>...</td>\n",
              "      <td>255</td>\n",
              "      <td>255</td>\n",
              "      <td>255</td>\n",
              "      <td>255</td>\n",
              "      <td>255</td>\n",
              "      <td>255</td>\n",
              "      <td>255</td>\n",
              "      <td>255</td>\n",
              "      <td>255</td>\n",
              "      <td>255</td>\n",
              "    </tr>\n",
              "    <tr>\n",
              "      <th>2</th>\n",
              "      <td>Eight</td>\n",
              "      <td>255</td>\n",
              "      <td>255</td>\n",
              "      <td>255</td>\n",
              "      <td>255</td>\n",
              "      <td>255</td>\n",
              "      <td>255</td>\n",
              "      <td>255</td>\n",
              "      <td>255</td>\n",
              "      <td>255</td>\n",
              "      <td>...</td>\n",
              "      <td>255</td>\n",
              "      <td>255</td>\n",
              "      <td>255</td>\n",
              "      <td>255</td>\n",
              "      <td>255</td>\n",
              "      <td>255</td>\n",
              "      <td>255</td>\n",
              "      <td>255</td>\n",
              "      <td>255</td>\n",
              "      <td>255</td>\n",
              "    </tr>\n",
              "  </tbody>\n",
              "</table>\n",
              "<p>3 rows × 4097 columns</p>\n",
              "</div>\n",
              "      <button class=\"colab-df-convert\" onclick=\"convertToInteractive('df-58509d83-d8c7-4bca-a1e3-285a768e8c9a')\"\n",
              "              title=\"Convert this dataframe to an interactive table.\"\n",
              "              style=\"display:none;\">\n",
              "        \n",
              "  <svg xmlns=\"http://www.w3.org/2000/svg\" height=\"24px\"viewBox=\"0 0 24 24\"\n",
              "       width=\"24px\">\n",
              "    <path d=\"M0 0h24v24H0V0z\" fill=\"none\"/>\n",
              "    <path d=\"M18.56 5.44l.94 2.06.94-2.06 2.06-.94-2.06-.94-.94-2.06-.94 2.06-2.06.94zm-11 1L8.5 8.5l.94-2.06 2.06-.94-2.06-.94L8.5 2.5l-.94 2.06-2.06.94zm10 10l.94 2.06.94-2.06 2.06-.94-2.06-.94-.94-2.06-.94 2.06-2.06.94z\"/><path d=\"M17.41 7.96l-1.37-1.37c-.4-.4-.92-.59-1.43-.59-.52 0-1.04.2-1.43.59L10.3 9.45l-7.72 7.72c-.78.78-.78 2.05 0 2.83L4 21.41c.39.39.9.59 1.41.59.51 0 1.02-.2 1.41-.59l7.78-7.78 2.81-2.81c.8-.78.8-2.07 0-2.86zM5.41 20L4 18.59l7.72-7.72 1.47 1.35L5.41 20z\"/>\n",
              "  </svg>\n",
              "      </button>\n",
              "      \n",
              "  <style>\n",
              "    .colab-df-container {\n",
              "      display:flex;\n",
              "      flex-wrap:wrap;\n",
              "      gap: 12px;\n",
              "    }\n",
              "\n",
              "    .colab-df-convert {\n",
              "      background-color: #E8F0FE;\n",
              "      border: none;\n",
              "      border-radius: 50%;\n",
              "      cursor: pointer;\n",
              "      display: none;\n",
              "      fill: #1967D2;\n",
              "      height: 32px;\n",
              "      padding: 0 0 0 0;\n",
              "      width: 32px;\n",
              "    }\n",
              "\n",
              "    .colab-df-convert:hover {\n",
              "      background-color: #E2EBFA;\n",
              "      box-shadow: 0px 1px 2px rgba(60, 64, 67, 0.3), 0px 1px 3px 1px rgba(60, 64, 67, 0.15);\n",
              "      fill: #174EA6;\n",
              "    }\n",
              "\n",
              "    [theme=dark] .colab-df-convert {\n",
              "      background-color: #3B4455;\n",
              "      fill: #D2E3FC;\n",
              "    }\n",
              "\n",
              "    [theme=dark] .colab-df-convert:hover {\n",
              "      background-color: #434B5C;\n",
              "      box-shadow: 0px 1px 3px 1px rgba(0, 0, 0, 0.15);\n",
              "      filter: drop-shadow(0px 1px 2px rgba(0, 0, 0, 0.3));\n",
              "      fill: #FFFFFF;\n",
              "    }\n",
              "  </style>\n",
              "\n",
              "      <script>\n",
              "        const buttonEl =\n",
              "          document.querySelector('#df-58509d83-d8c7-4bca-a1e3-285a768e8c9a button.colab-df-convert');\n",
              "        buttonEl.style.display =\n",
              "          google.colab.kernel.accessAllowed ? 'block' : 'none';\n",
              "\n",
              "        async function convertToInteractive(key) {\n",
              "          const element = document.querySelector('#df-58509d83-d8c7-4bca-a1e3-285a768e8c9a');\n",
              "          const dataTable =\n",
              "            await google.colab.kernel.invokeFunction('convertToInteractive',\n",
              "                                                     [key], {});\n",
              "          if (!dataTable) return;\n",
              "\n",
              "          const docLinkHtml = 'Like what you see? Visit the ' +\n",
              "            '<a target=\"_blank\" href=https://colab.research.google.com/notebooks/data_table.ipynb>data table notebook</a>'\n",
              "            + ' to learn more about interactive tables.';\n",
              "          element.innerHTML = '';\n",
              "          dataTable['output_type'] = 'display_data';\n",
              "          await google.colab.output.renderOutput(dataTable, element);\n",
              "          const docLink = document.createElement('div');\n",
              "          docLink.innerHTML = docLinkHtml;\n",
              "          element.appendChild(docLink);\n",
              "        }\n",
              "      </script>\n",
              "    </div>\n",
              "  </div>\n",
              "  "
            ]
          },
          "metadata": {},
          "execution_count": 123
        }
      ]
    },
    {
      "cell_type": "code",
      "source": [
        "TRAIN = Path(\"train\")\n",
        "TEST = Path(\"test\")"
      ],
      "metadata": {
        "id": "V90P8lHfZkoc"
      },
      "execution_count": null,
      "outputs": []
    },
    {
      "cell_type": "code",
      "source": [
        "try:\n",
        "    os.makedirs(TEST)\n",
        "except:\n",
        "    pass"
      ],
      "metadata": {
        "id": "WKgyKG_-aepQ"
      },
      "execution_count": null,
      "outputs": []
    },
    {
      "cell_type": "code",
      "source": [
        "import numpy as np\n",
        "\n",
        "from PIL import Image\n",
        "\n",
        "def save(note, filepath):\n",
        "    note = note.reshape(64,64)\n",
        "    note = note.astype(np.uint8)\n",
        "\n",
        "    img = Image.fromarray(note)\n",
        "    img.save(filepath)"
      ],
      "metadata": {
        "id": "zOjO5VNAaliO"
      },
      "execution_count": null,
      "outputs": []
    },
    {
      "cell_type": "code",
      "source": [
        "# save testing images\n",
        "for index, note in test_df.iterrows():\n",
        "\n",
        "    folder = TEST\n",
        "    filename = f\"{index}.jpg\"\n",
        "    filepath = folder/filename\n",
        "    \n",
        "    note = note.values\n",
        "    \n",
        "    save(note, filepath)"
      ],
      "metadata": {
        "id": "slHjsu2san3c"
      },
      "execution_count": null,
      "outputs": []
    },
    {
      "cell_type": "code",
      "source": [
        "# save training images\n",
        "for index, row in train_df.iterrows():\n",
        "      label,note = row[0], row[1:]\n",
        "      \n",
        "      folder = TRAIN/str(label)\n",
        "      filename = f\"{index}.jpg\"\n",
        "      filepath = folder/filename\n",
        "      \n",
        "      note = note.values\n",
        "      \n",
        "      save(note, filepath)"
      ],
      "metadata": {
        "id": "ujSso48Ub4W3"
      },
      "execution_count": null,
      "outputs": []
    },
    {
      "cell_type": "code",
      "source": [
        "tfms = fa.vision.get_transforms(do_flip=False)"
      ],
      "metadata": {
        "id": "yALNAbor-fOB"
      },
      "execution_count": null,
      "outputs": []
    },
    {
      "cell_type": "code",
      "source": [
        "print('test:',TEST)\n",
        "print('train:', TRAIN)\n",
        "print(type(TEST))"
      ],
      "metadata": {
        "id": "jHqmSkoZf3X6",
        "colab": {
          "base_uri": "https://localhost:8080/"
        },
        "outputId": "bcad72f3-701c-4933-c385-2fa24084efa8"
      },
      "execution_count": null,
      "outputs": [
        {
          "output_type": "stream",
          "name": "stdout",
          "text": [
            "test: test\n",
            "train: train\n",
            "<class 'pathlib.PosixPath'>\n"
          ]
        }
      ]
    },
    {
      "cell_type": "code",
      "source": [
        "data = fa.vision.ImageDataBunch.from_folder(\n",
        "    path = (\"train\"),\n",
        "    test = (\"test\"),\n",
        "    valid_pct = 0.2,\n",
        "    bs = 16,\n",
        "    size = 28,\n",
        "    #num_workers = 0,\n",
        "    ds_tfms = tfms\n",
        ")"
      ],
      "metadata": {
        "id": "yhyzVL8F-iao"
      },
      "execution_count": null,
      "outputs": []
    },
    {
      "cell_type": "code",
      "source": [
        "mnist_stats"
      ],
      "metadata": {
        "id": "V9RdWnoSg_F_",
        "colab": {
          "base_uri": "https://localhost:8080/"
        },
        "outputId": "424203cc-364f-4d7f-a63d-a48b4b448a75"
      },
      "execution_count": null,
      "outputs": [
        {
          "output_type": "execute_result",
          "data": {
            "text/plain": [
              "([0.131], [0.308])"
            ]
          },
          "metadata": {},
          "execution_count": 132
        }
      ]
    },
    {
      "cell_type": "code",
      "source": [
        "data.normalize(mnist_stats)"
      ],
      "metadata": {
        "id": "0zjui1ythDb9",
        "colab": {
          "base_uri": "https://localhost:8080/"
        },
        "outputId": "def98fe0-31c2-4093-92f5-1cab7ae11310"
      },
      "execution_count": null,
      "outputs": [
        {
          "output_type": "execute_result",
          "data": {
            "text/plain": [
              "ImageDataBunch;\n",
              "\n",
              "Train: LabelList (1996 items)\n",
              "x: ImageList\n",
              "Image (3, 28, 28),Image (3, 28, 28),Image (3, 28, 28),Image (3, 28, 28),Image (3, 28, 28)\n",
              "y: CategoryList\n",
              "Whole,Whole,Whole,Whole,Whole\n",
              "Path: train;\n",
              "\n",
              "Valid: LabelList (498 items)\n",
              "x: ImageList\n",
              "Image (3, 28, 28),Image (3, 28, 28),Image (3, 28, 28),Image (3, 28, 28),Image (3, 28, 28)\n",
              "y: CategoryList\n",
              "Quarter,Whole,Half,Eight,Whole\n",
              "Path: train;\n",
              "\n",
              "Test: LabelList (0 items)\n",
              "x: ImageList\n",
              "\n",
              "y: EmptyLabelList\n",
              "\n",
              "Path: train"
            ]
          },
          "metadata": {},
          "execution_count": 133
        }
      ]
    },
    {
      "cell_type": "code",
      "source": [
        "print(data.classes)"
      ],
      "metadata": {
        "id": "xsLzjlsyhNr5",
        "colab": {
          "base_uri": "https://localhost:8080/"
        },
        "outputId": "3e9aea7b-6ca5-4b08-ba66-97393c4c8cb0"
      },
      "execution_count": null,
      "outputs": [
        {
          "output_type": "stream",
          "name": "stdout",
          "text": [
            "['Eight', 'Half', 'Quarter', 'Sixteenth', 'Whole']\n"
          ]
        }
      ]
    },
    {
      "cell_type": "code",
      "source": [
        "learn = cnn_learner(data, base_arch=models.resnet18, metrics=accuracy, model_dir=\"/tmp/models\", callback_fns=ShowGraph)"
      ],
      "metadata": {
        "id": "Nv9aWgT-hUQW"
      },
      "execution_count": null,
      "outputs": []
    },
    {
      "cell_type": "code",
      "source": [
        "# finding optimal learning rate, accuracy 90%+\n",
        "learn.lr_find()"
      ],
      "metadata": {
        "id": "A13QUusJvLXx",
        "colab": {
          "base_uri": "https://localhost:8080/",
          "height": 113
        },
        "outputId": "2bad9054-7afe-4631-f2c1-6ed843652e84"
      },
      "execution_count": null,
      "outputs": [
        {
          "output_type": "display_data",
          "data": {
            "text/plain": [
              "<IPython.core.display.HTML object>"
            ],
            "text/html": [
              "\n",
              "<style>\n",
              "    /* Turns off some styling */\n",
              "    progress {\n",
              "        /* gets rid of default border in Firefox and Opera. */\n",
              "        border: none;\n",
              "        /* Needs to be in here for Safari polyfill so background images work as expected. */\n",
              "        background-size: auto;\n",
              "    }\n",
              "    .progress-bar-interrupted, .progress-bar-interrupted::-webkit-progress-bar {\n",
              "        background: #F44336;\n",
              "    }\n",
              "</style>\n"
            ]
          },
          "metadata": {}
        },
        {
          "output_type": "display_data",
          "data": {
            "text/plain": [
              "<IPython.core.display.HTML object>"
            ],
            "text/html": [
              "\n",
              "    <div>\n",
              "      <progress value='0' class='' max='1' style='width:300px; height:20px; vertical-align: middle;'></progress>\n",
              "      0.00% [0/1 00:00<00:00]\n",
              "    </div>\n",
              "    \n",
              "<table border=\"1\" class=\"dataframe\">\n",
              "  <thead>\n",
              "    <tr style=\"text-align: left;\">\n",
              "      <th>epoch</th>\n",
              "      <th>train_loss</th>\n",
              "      <th>valid_loss</th>\n",
              "      <th>accuracy</th>\n",
              "      <th>time</th>\n",
              "    </tr>\n",
              "  </thead>\n",
              "  <tbody>\n",
              "  </tbody>\n",
              "</table><p>\n",
              "\n",
              "    <div>\n",
              "      <progress value='84' class='' max='124' style='width:300px; height:20px; vertical-align: middle;'></progress>\n",
              "      67.74% [84/124 00:02<00:01 3.2623]\n",
              "    </div>\n",
              "    "
            ]
          },
          "metadata": {}
        },
        {
          "output_type": "stream",
          "name": "stdout",
          "text": [
            "LR Finder is complete, type {learner_name}.recorder.plot() to see the graph.\n"
          ]
        }
      ]
    },
    {
      "cell_type": "code",
      "source": [
        "learn.recorder.plot(suggestion=True)"
      ],
      "metadata": {
        "id": "YrYC7F_rvmuG",
        "colab": {
          "base_uri": "https://localhost:8080/",
          "height": 314
        },
        "outputId": "13acf0a2-6f51-4bb1-b27b-415cd8797b1a"
      },
      "execution_count": null,
      "outputs": [
        {
          "output_type": "stream",
          "name": "stdout",
          "text": [
            "Min numerical gradient: 3.63E-03\n",
            "Min loss divided by 10: 3.98E-03\n"
          ]
        },
        {
          "output_type": "display_data",
          "data": {
            "text/plain": [
              "<Figure size 432x288 with 1 Axes>"
            ],
            "image/png": "[encoded data removed]"
          },
          "metadata": {
            "needs_background": "light"
          }
        }
      ]
    },
    {
      "cell_type": "code",
      "source": [
        "learn.fit(7, 1e-3)"
      ],
      "metadata": {
        "id": "v2luvkduD5Bs",
        "colab": {
          "base_uri": "https://localhost:8080/",
          "height": 521
        },
        "outputId": "4a560c0f-d6ad-44e7-eb7b-c0990dc67bb2"
      },
      "execution_count": null,
      "outputs": [
        {
          "output_type": "display_data",
          "data": {
            "text/plain": [
              "<IPython.core.display.HTML object>"
            ],
            "text/html": [
              "\n",
              "<style>\n",
              "    /* Turns off some styling */\n",
              "    progress {\n",
              "        /* gets rid of default border in Firefox and Opera. */\n",
              "        border: none;\n",
              "        /* Needs to be in here for Safari polyfill so background images work as expected. */\n",
              "        background-size: auto;\n",
              "    }\n",
              "    .progress-bar-interrupted, .progress-bar-interrupted::-webkit-progress-bar {\n",
              "        background: #F44336;\n",
              "    }\n",
              "</style>\n"
            ]
          },
          "metadata": {}
        },
        {
          "output_type": "display_data",
          "data": {
            "text/plain": [
              "<IPython.core.display.HTML object>"
            ],
            "text/html": [
              "<table border=\"1\" class=\"dataframe\">\n",
              "  <thead>\n",
              "    <tr style=\"text-align: left;\">\n",
              "      <th>epoch</th>\n",
              "      <th>train_loss</th>\n",
              "      <th>valid_loss</th>\n",
              "      <th>accuracy</th>\n",
              "      <th>time</th>\n",
              "    </tr>\n",
              "  </thead>\n",
              "  <tbody>\n",
              "    <tr>\n",
              "      <td>0</td>\n",
              "      <td>1.499612</td>\n",
              "      <td>0.702247</td>\n",
              "      <td>0.755020</td>\n",
              "      <td>00:04</td>\n",
              "    </tr>\n",
              "    <tr>\n",
              "      <td>1</td>\n",
              "      <td>1.127235</td>\n",
              "      <td>0.491027</td>\n",
              "      <td>0.815261</td>\n",
              "      <td>00:04</td>\n",
              "    </tr>\n",
              "    <tr>\n",
              "      <td>2</td>\n",
              "      <td>0.856094</td>\n",
              "      <td>0.421434</td>\n",
              "      <td>0.845381</td>\n",
              "      <td>00:04</td>\n",
              "    </tr>\n",
              "    <tr>\n",
              "      <td>3</td>\n",
              "      <td>0.671798</td>\n",
              "      <td>0.308682</td>\n",
              "      <td>0.871486</td>\n",
              "      <td>00:04</td>\n",
              "    </tr>\n",
              "    <tr>\n",
              "      <td>4</td>\n",
              "      <td>0.662429</td>\n",
              "      <td>0.316635</td>\n",
              "      <td>0.885542</td>\n",
              "      <td>00:04</td>\n",
              "    </tr>\n",
              "    <tr>\n",
              "      <td>5</td>\n",
              "      <td>0.568699</td>\n",
              "      <td>0.191434</td>\n",
              "      <td>0.933735</td>\n",
              "      <td>00:04</td>\n",
              "    </tr>\n",
              "    <tr>\n",
              "      <td>6</td>\n",
              "      <td>0.475612</td>\n",
              "      <td>0.175359</td>\n",
              "      <td>0.941767</td>\n",
              "      <td>00:04</td>\n",
              "    </tr>\n",
              "  </tbody>\n",
              "</table>"
            ]
          },
          "metadata": {}
        },
        {
          "output_type": "display_data",
          "data": {
            "text/plain": [
              "<Figure size 432x288 with 1 Axes>"
            ],
            "image/png": "[encoded data removed]"
          },
          "metadata": {}
        }
      ]
    },
    {
      "cell_type": "code",
      "source": [
        "learn.show_results()"
      ],
      "metadata": {
        "id": "jt8EYgcL-g8l",
        "colab": {
          "base_uri": "https://localhost:8080/",
          "height": 1000
        },
        "outputId": "cc9324d8-ae6e-4705-f757-142617141794"
      },
      "execution_count": null,
      "outputs": [
        {
          "output_type": "display_data",
          "data": {
            "text/plain": [
              "<Figure size 1152x1152 with 16 Axes>"
            ],
            "image/png": "[encoded data removed]"
          },
          "metadata": {
            "needs_background": "light"
          }
        }
      ]
    },
    {
      "cell_type": "code",
      "source": [
        "interp = ClassificationInterpretation.from_learner(learn)"
      ],
      "metadata": {
        "id": "hUcGURr6h0MJ",
        "colab": {
          "base_uri": "https://localhost:8080/",
          "height": 17
        },
        "outputId": "1f00fdd9-7122-45d5-84a3-3ca00e38cffc"
      },
      "execution_count": null,
      "outputs": [
        {
          "output_type": "display_data",
          "data": {
            "text/plain": [
              "<IPython.core.display.HTML object>"
            ],
            "text/html": [
              "\n",
              "<style>\n",
              "    /* Turns off some styling */\n",
              "    progress {\n",
              "        /* gets rid of default border in Firefox and Opera. */\n",
              "        border: none;\n",
              "        /* Needs to be in here for Safari polyfill so background images work as expected. */\n",
              "        background-size: auto;\n",
              "    }\n",
              "    .progress-bar-interrupted, .progress-bar-interrupted::-webkit-progress-bar {\n",
              "        background: #F44336;\n",
              "    }\n",
              "</style>\n"
            ]
          },
          "metadata": {}
        },
        {
          "output_type": "display_data",
          "data": {
            "text/plain": [
              "<IPython.core.display.HTML object>"
            ],
            "text/html": [
              ""
            ]
          },
          "metadata": {}
        }
      ]
    },
    {
      "cell_type": "code",
      "source": [
        "interp.plot_top_losses(9, figsize=(10, 10))"
      ],
      "metadata": {
        "id": "7IupOH9th3MR",
        "colab": {
          "base_uri": "https://localhost:8080/",
          "height": 646
        },
        "outputId": "86fa5ae0-02ca-4bd7-a53c-06abb305eccf"
      },
      "execution_count": null,
      "outputs": [
        {
          "output_type": "display_data",
          "data": {
            "text/plain": [
              "<Figure size 720x720 with 9 Axes>"
            ],
            "image/png": "[encoded data removed]"
          },
          "metadata": {
            "needs_background": "light"
          }
        }
      ]
    },
    {
      "cell_type": "code",
      "source": [
        "interp.plot_confusion_matrix()"
      ],
      "metadata": {
        "id": "h2zv6ln9iHC9",
        "colab": {
          "base_uri": "https://localhost:8080/",
          "height": 311
        },
        "outputId": "c472d55b-6ddd-4adc-c469-fa0321b9f7da"
      },
      "execution_count": null,
      "outputs": [
        {
          "output_type": "display_data",
          "data": {
            "text/plain": [
              "<Figure size 432x288 with 1 Axes>"
            ],
            "image/png": "[encoded data removed]"
          },
          "metadata": {
            "needs_background": "light"
          }
        }
      ]
    },
    {
      "cell_type": "code",
      "source": [
        "index = 4"
      ],
      "metadata": {
        "id": "aOvYL9yyCZ25"
      },
      "execution_count": null,
      "outputs": []
    },
    {
      "cell_type": "code",
      "source": [
        "files = get_image_files(\"test\")\n",
        "open_image(files[index])\n",
        "print(type(open_image(files[index])))"
      ],
      "metadata": {
        "id": "J7Zt8Qx53QLM",
        "colab": {
          "base_uri": "https://localhost:8080/"
        },
        "outputId": "3d118ba3-a1ee-4116-aaef-a48c6968cedd"
      },
      "execution_count": null,
      "outputs": [
        {
          "output_type": "stream",
          "name": "stdout",
          "text": [
            "<class 'fastai.vision.image.Image'>\n"
          ]
        }
      ]
    },
    {
      "cell_type": "code",
      "source": [
        "learn.predict(open_image(files[index]))"
      ],
      "metadata": {
        "id": "9OuZ5SaSwz3D",
        "colab": {
          "base_uri": "https://localhost:8080/"
        },
        "outputId": "787bc28e-5205-4172-ffcf-c3557a9e5a31"
      },
      "execution_count": null,
      "outputs": [
        {
          "output_type": "execute_result",
          "data": {
            "text/plain": [
              "(Category tensor(1),\n",
              " tensor(1),\n",
              " tensor([2.5678e-02, 9.7340e-01, 1.4941e-04, 4.8810e-04, 2.8756e-04]))"
            ]
          },
          "metadata": {},
          "execution_count": 145
        }
      ]
    },
    {
      "cell_type": "code",
      "source": [
        "if (learn.predict(open_image(files[index]))[1] == tensor(0)):\n",
        "  print(\"Eighth\")\n",
        "elif (learn.predict(open_image(files[index]))[1] == tensor(1)):\n",
        "  print(\"Half\")\n",
        "elif (learn.predict(open_image(files[index]))[1] == tensor(2)):\n",
        "  print(\"Quarter\")\n",
        "elif (learn.predict(open_image(files[index]))[1] == tensor(3)):\n",
        "  print(\"Sixteenth\")\n",
        "elif (learn.predict(open_image(files[index]))[1] == tensor(4)):\n",
        "  print(\"Whole\")"
      ],
      "metadata": {
        "id": "O6g57DMRBDM6",
        "colab": {
          "base_uri": "https://localhost:8080/"
        },
        "outputId": "d7d110e5-ca2b-42ac-dbfb-073bede1343a"
      },
      "execution_count": null,
      "outputs": [
        {
          "output_type": "stream",
          "name": "stdout",
          "text": [
            "Half\n"
          ]
        }
      ]
    },
    {
      "cell_type": "code",
      "source": [
        "@anvil.server.callable\n",
        "def predict(fileName):\n",
        "  im = fa.vision.open_image(\"/content/drive/My Drive/notes/\" + fileName)\n",
        "  print(fileName)\n",
        "  thing = (learn.predict(im)[1])\n",
        "  print(thing)\n",
        "  print(learn.predict(im))\n",
        "  if (thing == tensor(0)):\n",
        "    return \"Eighth\"\n",
        "  if (thing == tensor(1)):\n",
        "    return \"Half\"\n",
        "  if (thing == tensor(2)):\n",
        "    return \"Quarter\"\n",
        "  if (thing == tensor(3)):\n",
        "    return \"Sixteenth\"\n",
        "  if (thing == tensor(4)):\n",
        "    return \"Whole\"\n",
        "\n",
        "\n",
        "anvil.server.wait_forever()"
      ],
      "metadata": {
        "id": "RNNt7pcF_esZ",
        "colab": {
          "base_uri": "https://localhost:8080/",
          "height": 1000
        },
        "outputId": "00525132-8ae6-4bb0-ea62-906d38ba33f8"
      },
      "execution_count": null,
      "outputs": [
        {
          "output_type": "stream",
          "name": "stdout",
          "text": [
            "1278.jpg\n",
            "tensor(4)\n",
            "(Category tensor(4), tensor(4), tensor([2.9325e-06, 1.0025e-04, 1.6325e-03, 3.6836e-04, 9.9790e-01]))\n",
            "1000.jpg\n",
            "tensor(3)\n",
            "(Category tensor(3), tensor(3), tensor([1.9356e-03, 7.0351e-08, 7.3144e-07, 9.9806e-01, 4.6750e-06]))\n",
            "1278.jpg\n",
            "tensor(4)\n",
            "(Category tensor(4), tensor(4), tensor([2.9325e-06, 1.0025e-04, 1.6325e-03, 3.6836e-04, 9.9790e-01]))\n",
            "1535.jpg\n",
            "tensor(2)\n",
            "(Category tensor(2), tensor(2), tensor([1.3738e-03, 2.4935e-03, 9.8995e-01, 3.2449e-04, 5.8565e-03]))\n",
            "7470.jpg\n",
            "tensor(4)\n",
            "(Category tensor(4), tensor(4), tensor([2.6517e-22, 1.1565e-09, 2.3901e-05, 2.3410e-12, 9.9998e-01]))\n",
            "7471.jpg\n",
            "tensor(4)\n",
            "(Category tensor(4), tensor(4), tensor([7.6472e-14, 1.2912e-05, 6.9477e-05, 6.1602e-11, 9.9992e-01]))\n",
            "1000.jpg\n",
            "tensor(3)\n",
            "(Category tensor(3), tensor(3), tensor([1.9356e-03, 7.0351e-08, 7.3144e-07, 9.9806e-01, 4.6750e-06]))\n",
            "7472.jpg\n",
            "tensor(4)\n",
            "(Category tensor(4), tensor(4), tensor([1.1073e-11, 3.6521e-02, 9.9704e-03, 2.5122e-08, 9.5351e-01]))\n",
            "1535.jpg\n",
            "tensor(2)\n",
            "(Category tensor(2), tensor(2), tensor([1.3738e-03, 2.4935e-03, 9.8995e-01, 3.2449e-04, 5.8565e-03]))\n",
            "IMG_7473.jpg\n",
            "tensor(4)\n",
            "(Category tensor(4), tensor(4), tensor([4.2377e-06, 7.0303e-02, 3.2645e-01, 3.9745e-04, 6.0284e-01]))\n",
            "7470.jpg\n",
            "tensor(4)\n",
            "(Category tensor(4), tensor(4), tensor([2.6517e-22, 1.1565e-09, 2.3901e-05, 2.3410e-12, 9.9998e-01]))\n",
            "1278.jpg\n",
            "tensor(4)\n",
            "(Category tensor(4), tensor(4), tensor([2.9325e-06, 1.0025e-04, 1.6325e-03, 3.6836e-04, 9.9790e-01]))\n",
            "1278.jpg\n",
            "tensor(4)\n",
            "(Category tensor(4), tensor(4), tensor([2.9325e-06, 1.0025e-04, 1.6325e-03, 3.6836e-04, 9.9790e-01]))\n",
            "IMG_7473.jpg\n",
            "tensor(4)\n",
            "(Category tensor(4), tensor(4), tensor([4.2377e-06, 7.0303e-02, 3.2645e-01, 3.9745e-04, 6.0284e-01]))\n",
            "IMG_7473.jpg\n",
            "tensor(4)\n",
            "(Category tensor(4), tensor(4), tensor([4.2377e-06, 7.0303e-02, 3.2645e-01, 3.9745e-04, 6.0284e-01]))\n",
            "1000.jpg\n",
            "tensor(3)\n",
            "(Category tensor(3), tensor(3), tensor([1.9356e-03, 7.0351e-08, 7.3144e-07, 9.9806e-01, 4.6750e-06]))\n",
            "1535.jpg\n",
            "tensor(2)\n",
            "(Category tensor(2), tensor(2), tensor([1.3738e-03, 2.4935e-03, 9.8995e-01, 3.2449e-04, 5.8565e-03]))\n",
            "IMG_7473.jpg\n",
            "tensor(4)\n",
            "(Category tensor(4), tensor(4), tensor([4.2377e-06, 7.0303e-02, 3.2645e-01, 3.9745e-04, 6.0284e-01]))\n",
            "IMG_7473.jpg\n",
            "tensor(4)\n",
            "(Category tensor(4), tensor(4), tensor([4.2377e-06, 7.0303e-02, 3.2645e-01, 3.9745e-04, 6.0284e-01]))\n",
            "IMG_7473.jpg\n",
            "tensor(4)\n",
            "(Category tensor(4), tensor(4), tensor([4.2377e-06, 7.0303e-02, 3.2645e-01, 3.9745e-04, 6.0284e-01]))\n",
            "1535.jpg\n",
            "tensor(2)\n",
            "(Category tensor(2), tensor(2), tensor([1.3738e-03, 2.4935e-03, 9.8995e-01, 3.2449e-04, 5.8565e-03]))\n",
            "7472.jpg\n",
            "tensor(4)\n",
            "(Category tensor(4), tensor(4), tensor([1.1073e-11, 3.6521e-02, 9.9704e-03, 2.5122e-08, 9.5351e-01]))\n",
            "1535.jpg\n",
            "tensor(2)\n",
            "(Category tensor(2), tensor(2), tensor([1.3738e-03, 2.4935e-03, 9.8995e-01, 3.2449e-04, 5.8565e-03]))\n",
            "quarter_note_for_web.png\n",
            "tensor(2)\n",
            "(Category tensor(2), tensor(2), tensor([6.3731e-06, 5.7149e-05, 9.9992e-01, 3.0137e-07, 1.7224e-05]))\n",
            "unknown.png\n",
            "tensor(4)\n",
            "(Category tensor(4), tensor(4), tensor([1.5946e-13, 1.1853e-12, 9.5824e-13, 5.3998e-05, 9.9995e-01]))\n",
            "1535.jpg\n",
            "tensor(2)\n",
            "(Category tensor(2), tensor(2), tensor([1.3738e-03, 2.4935e-03, 9.8995e-01, 3.2449e-04, 5.8565e-03]))\n"
          ]
        },
        {
          "output_type": "error",
          "ename": "KeyboardInterrupt",
          "evalue": "ignored",
          "traceback": [
            "\u001b[0;31m---------------------------------------------------------------------------\u001b[0m",
            "\u001b[0;31mKeyboardInterrupt\u001b[0m                         Traceback (most recent call last)",
            "\u001b[0;32m<ipython-input-149-7e69d436cb8f>\u001b[0m in \u001b[0;36m<module>\u001b[0;34m()\u001b[0m\n\u001b[1;32m     18\u001b[0m \u001b[0;34m\u001b[0m\u001b[0m\n\u001b[1;32m     19\u001b[0m \u001b[0;34m\u001b[0m\u001b[0m\n\u001b[0;32m---> 20\u001b[0;31m \u001b[0manvil\u001b[0m\u001b[0;34m.\u001b[0m\u001b[0mserver\u001b[0m\u001b[0;34m.\u001b[0m\u001b[0mwait_forever\u001b[0m\u001b[0;34m(\u001b[0m\u001b[0;34m)\u001b[0m\u001b[0;34m\u001b[0m\u001b[0;34m\u001b[0m\u001b[0m\n\u001b[0m",
            "\u001b[0;32m/usr/local/lib/python3.7/dist-packages/anvil/server.py\u001b[0m in \u001b[0;36mwait_forever\u001b[0;34m()\u001b[0m\n\u001b[1;32m    428\u001b[0m     \u001b[0m_get_connection\u001b[0m\u001b[0;34m(\u001b[0m\u001b[0;34m)\u001b[0m\u001b[0;34m\u001b[0m\u001b[0;34m\u001b[0m\u001b[0m\n\u001b[1;32m    429\u001b[0m     \u001b[0;32mwhile\u001b[0m \u001b[0;32mTrue\u001b[0m\u001b[0;34m:\u001b[0m\u001b[0;34m\u001b[0m\u001b[0;34m\u001b[0m\u001b[0m\n\u001b[0;32m--> 430\u001b[0;31m         \u001b[0mtime\u001b[0m\u001b[0;34m.\u001b[0m\u001b[0msleep\u001b[0m\u001b[0;34m(\u001b[0m\u001b[0;36m1\u001b[0m\u001b[0;34m)\u001b[0m\u001b[0;34m\u001b[0m\u001b[0;34m\u001b[0m\u001b[0m\n\u001b[0m",
            "\u001b[0;31mKeyboardInterrupt\u001b[0m: "
          ]
        }
      ]
    },
    {
      "cell_type": "code",
      "source": [
        "from google.colab import drive\n",
        "drive.mount('/content/drive/')"
      ],
      "metadata": {
        "id": "156FAQDxBI93"
      },
      "execution_count": null,
      "outputs": []
    },
    {
      "cell_type": "code",
      "source": [
        "from PIL import Image\n",
        "\n",
        "im = Image.open('/content/drive/My Drive/notes/1278.jpg')\n",
        "\n"
      ],
      "metadata": {
        "id": "koT20mBMCH1S"
      },
      "execution_count": null,
      "outputs": []
    }
  ]
}